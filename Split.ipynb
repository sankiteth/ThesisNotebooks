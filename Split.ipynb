{
 "cells": [
  {
   "cell_type": "code",
   "execution_count": 2,
   "metadata": {},
   "outputs": [],
   "source": [
    "import numpy as np"
   ]
  },
  {
   "cell_type": "code",
   "execution_count": 17,
   "metadata": {},
   "outputs": [],
   "source": [
    "data = np.arange(64*2).reshape(2,4,4,4)"
   ]
  },
  {
   "cell_type": "code",
   "execution_count": 18,
   "metadata": {},
   "outputs": [
    {
     "data": {
      "text/plain": [
       "(2, 4, 4, 4)"
      ]
     },
     "execution_count": 18,
     "metadata": {},
     "output_type": "execute_result"
    }
   ],
   "source": [
    "data.shape"
   ]
  },
  {
   "cell_type": "code",
   "execution_count": 19,
   "metadata": {},
   "outputs": [],
   "source": [
    "sliced = np.vstack(np.split(data,2,axis=1))"
   ]
  },
  {
   "cell_type": "code",
   "execution_count": 20,
   "metadata": {},
   "outputs": [
    {
     "data": {
      "text/plain": [
       "(4, 2, 4, 4)"
      ]
     },
     "execution_count": 20,
     "metadata": {},
     "output_type": "execute_result"
    }
   ],
   "source": [
    "sliced.shape"
   ]
  },
  {
   "cell_type": "code",
   "execution_count": 21,
   "metadata": {},
   "outputs": [],
   "source": [
    "sliced2 = np.vstack(np.split(sliced,2,axis=2))"
   ]
  },
  {
   "cell_type": "code",
   "execution_count": 22,
   "metadata": {},
   "outputs": [
    {
     "data": {
      "text/plain": [
       "(8, 2, 2, 4)"
      ]
     },
     "execution_count": 22,
     "metadata": {},
     "output_type": "execute_result"
    }
   ],
   "source": [
    "sliced2.shape"
   ]
  },
  {
   "cell_type": "code",
   "execution_count": 23,
   "metadata": {},
   "outputs": [],
   "source": [
    "sliced_final = np.vstack(np.split(sliced2,2,axis=3))"
   ]
  },
  {
   "cell_type": "code",
   "execution_count": 24,
   "metadata": {},
   "outputs": [
    {
     "data": {
      "text/plain": [
       "(16, 2, 2, 2)"
      ]
     },
     "execution_count": 24,
     "metadata": {},
     "output_type": "execute_result"
    }
   ],
   "source": [
    "sliced_final.shape"
   ]
  },
  {
   "cell_type": "code",
   "execution_count": 15,
   "metadata": {},
   "outputs": [
    {
     "name": "stdout",
     "output_type": "stream",
     "text": [
      "[[[[ 0  1]\n",
      "   [ 4  5]]\n",
      "\n",
      "  [[16 17]\n",
      "   [20 21]]]\n",
      "\n",
      "\n",
      " [[[32 33]\n",
      "   [36 37]]\n",
      "\n",
      "  [[48 49]\n",
      "   [52 53]]]\n",
      "\n",
      "\n",
      " [[[ 8  9]\n",
      "   [12 13]]\n",
      "\n",
      "  [[24 25]\n",
      "   [28 29]]]\n",
      "\n",
      "\n",
      " [[[40 41]\n",
      "   [44 45]]\n",
      "\n",
      "  [[56 57]\n",
      "   [60 61]]]\n",
      "\n",
      "\n",
      " [[[ 2  3]\n",
      "   [ 6  7]]\n",
      "\n",
      "  [[18 19]\n",
      "   [22 23]]]\n",
      "\n",
      "\n",
      " [[[34 35]\n",
      "   [38 39]]\n",
      "\n",
      "  [[50 51]\n",
      "   [54 55]]]\n",
      "\n",
      "\n",
      " [[[10 11]\n",
      "   [14 15]]\n",
      "\n",
      "  [[26 27]\n",
      "   [30 31]]]\n",
      "\n",
      "\n",
      " [[[42 43]\n",
      "   [46 47]]\n",
      "\n",
      "  [[58 59]\n",
      "   [62 63]]]]\n"
     ]
    }
   ],
   "source": []
  },
  {
   "cell_type": "code",
   "execution_count": 49,
   "metadata": {},
   "outputs": [],
   "source": [
    "data = np.arange(4).reshape(2,2)"
   ]
  },
  {
   "cell_type": "code",
   "execution_count": 50,
   "metadata": {},
   "outputs": [
    {
     "name": "stdout",
     "output_type": "stream",
     "text": [
      "[[0 1]\n",
      " [2 3]]\n",
      "[[0 1]\n",
      " [2 3]]\n",
      "[[2 0]\n",
      " [3 1]]\n",
      "[[1 3]\n",
      " [0 2]]\n",
      "[[3 2]\n",
      " [1 0]]\n",
      "[[3 2]\n",
      " [1 0]]\n",
      "[[1 3]\n",
      " [0 2]]\n",
      "[[2 0]\n",
      " [3 1]]\n"
     ]
    }
   ],
   "source": [
    "axes_rots = [(1,0), (0,1)]\n",
    "k_list = range(4)\n",
    "for k in k_list:\n",
    "    for axes_rot in axes_rots:\n",
    "        print(np.rot90(data.copy(), k, axes_rot))"
   ]
  },
  {
   "cell_type": "code",
   "execution_count": 59,
   "metadata": {},
   "outputs": [
    {
     "name": "stdout",
     "output_type": "stream",
     "text": [
      "(0, 1, 2, 3)\n",
      "\n",
      "(0, 2, 1, 3)\n",
      "\n",
      "(1, 0, 3, 2)\n",
      "\n",
      "(1, 3, 0, 2)\n",
      "\n",
      "(2, 3, 0, 1)\n",
      "\n",
      "(2, 0, 3, 1)\n",
      "\n",
      "(3, 2, 1, 0)\n",
      "\n",
      "(3, 1, 2, 0)\n",
      "\n"
     ]
    },
    {
     "data": {
      "text/plain": [
       "8"
      ]
     },
     "execution_count": 59,
     "metadata": {},
     "output_type": "execute_result"
    }
   ],
   "source": [
    "flip1 = range(2)\n",
    "flip2 = range(2)\n",
    "transposes = [(0,1),(1,0)]\n",
    "all_d = []\n",
    "for f1 in flip1:\n",
    "    for f2 in flip2:\n",
    "        for t in transposes:\n",
    "            d = data.copy()\n",
    "            if f1:\n",
    "                d = np.flip(d,axis=0)\n",
    "            if f2:\n",
    "                d = np.flip(d,axis=1)    \n",
    "            d = tuple(np.transpose(d,axes=t).reshape([-1]))\n",
    "            all_d.append(d)\n",
    "            print(d)\n",
    "            print('')\n",
    "len(set(all_d))"
   ]
  },
  {
   "cell_type": "code",
   "execution_count": 62,
   "metadata": {},
   "outputs": [],
   "source": [
    "data = np.arange(8).reshape(2,2,2)"
   ]
  },
  {
   "cell_type": "code",
   "execution_count": 63,
   "metadata": {},
   "outputs": [
    {
     "data": {
      "text/plain": [
       "48"
      ]
     },
     "execution_count": 63,
     "metadata": {},
     "output_type": "execute_result"
    }
   ],
   "source": [
    "flip1 = range(2)\n",
    "flip2 = range(2)\n",
    "flip3 = range(2)\n",
    "transposes = [(0,1,2),(0,2,1),(1,0,2),(1,2,0),(2,0,1),(2,1,0)]\n",
    "all_d = []\n",
    "for f1 in flip1:\n",
    "    for f2 in flip2:\n",
    "        for f3 in flip3:        \n",
    "            for t in transposes:\n",
    "                d = data.copy()\n",
    "                if f1:\n",
    "                    d = np.flip(d,axis=0)\n",
    "                if f2:\n",
    "                    d = np.flip(d,axis=1)          \n",
    "                if f3:\n",
    "                    d = np.flip(d,axis=2)\n",
    "                d = tuple(np.transpose(d,axes=t).reshape([-1]))\n",
    "                all_d.append(d)\n",
    "len(set(all_d))"
   ]
  },
  {
   "cell_type": "code",
   "execution_count": 3,
   "metadata": {},
   "outputs": [
    {
     "name": "stdout",
     "output_type": "stream",
     "text": [
      "[[[[ 0  1]\n",
      "   [ 2  3]]\n",
      "\n",
      "  [[ 4  5]\n",
      "   [ 6  7]]]\n",
      "\n",
      "\n",
      " [[[ 8  9]\n",
      "   [10 11]]\n",
      "\n",
      "  [[12 13]\n",
      "   [14 15]]]]\n"
     ]
    }
   ],
   "source": [
    "import data.transformation as transformation\n",
    "import numpy as np\n",
    "data = np.arange(16).reshape(2,2,2,2)\n",
    "print(data)"
   ]
  },
  {
   "cell_type": "code",
   "execution_count": 2,
   "metadata": {},
   "outputs": [
    {
     "name": "stdout",
     "output_type": "stream",
     "text": [
      "[[[[ 5  7]\n",
      "   [ 4  6]]\n",
      "\n",
      "  [[ 1  3]\n",
      "   [ 0  2]]]\n",
      "\n",
      "\n",
      " [[[13 15]\n",
      "   [12 14]]\n",
      "\n",
      "  [[ 9 11]\n",
      "   [ 8 10]]]]\n"
     ]
    }
   ],
   "source": [
    "rot = transformation.rotate_3d(data)\n",
    "print(rot)"
   ]
  },
  {
   "cell_type": "code",
   "execution_count": 11,
   "metadata": {},
   "outputs": [
    {
     "name": "stdout",
     "output_type": "stream",
     "text": [
      "[[[[ 1  0]\n",
      "   [ 3  2]]\n",
      "\n",
      "  [[ 5  4]\n",
      "   [ 7  6]]]\n",
      "\n",
      "\n",
      " [[[ 9  8]\n",
      "   [11 10]]\n",
      "\n",
      "  [[13 12]\n",
      "   [15 14]]]]\n"
     ]
    }
   ],
   "source": [
    "transl = transformation.translate_3d(data)\n",
    "print(transl)"
   ]
  }
 ],
 "metadata": {
  "kernelspec": {
   "display_name": "Python 3",
   "language": "python",
   "name": "python3"
  },
  "language_info": {
   "codemirror_mode": {
    "name": "ipython",
    "version": 3
   },
   "file_extension": ".py",
   "mimetype": "text/x-python",
   "name": "python",
   "nbconvert_exporter": "python",
   "pygments_lexer": "ipython3",
   "version": "3.5.2"
  }
 },
 "nbformat": 4,
 "nbformat_minor": 2
}
