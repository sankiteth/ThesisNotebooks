{
 "cells": [
  {
   "cell_type": "code",
   "execution_count": 19,
   "metadata": {},
   "outputs": [
    {
     "name": "stdout",
     "output_type": "stream",
     "text": [
      "The autoreload extension is already loaded. To reload it, use:\n",
      "  %reload_ext autoreload\n",
      "Populating the interactive namespace from numpy and matplotlib\n"
     ]
    },
    {
     "data": {
      "text/html": [
       "<style>.container { width:90% !important; }</style>"
      ],
      "text/plain": [
       "<IPython.core.display.HTML object>"
      ]
     },
     "metadata": {},
     "output_type": "display_data"
    }
   ],
   "source": [
    "%load_ext autoreload\n",
    "%autoreload 2\n",
    "%pylab inline\n",
    "from IPython.core.display import display, HTML; display(HTML(\"<style>.container { width:90% !important; }</style>\"))\n",
    "\n",
    "from moviepy.editor import *\n",
    "from moviepy.video.io.bindings import mplfig_to_npimage"
   ]
  },
  {
   "cell_type": "code",
   "execution_count": 20,
   "metadata": {},
   "outputs": [],
   "source": [
    "title = TextClip('N-body simulation using 3D GAN\\nAnkit Srivastava\\nETH Zurich', color='white', size=(2160, 1440), bg_color='black', fontsize=80)\n",
    "title = title.set_duration(2)"
   ]
  },
  {
   "cell_type": "code",
   "execution_count": 21,
   "metadata": {},
   "outputs": [],
   "source": [
    "title_32 = TextClip('First Upscale: Latent code to 32x32x32\\n using GAN M3', color='white', size=(2160, 1440), bg_color='black', fontsize=80)\n",
    "title_32 = title_32.set_duration(2)\n",
    "sample_32 = VideoFileClip('Samples/final/Video_editing/0th_32_27k.mp4')"
   ]
  },
  {
   "cell_type": "code",
   "execution_count": 22,
   "metadata": {},
   "outputs": [],
   "source": [
    "title_64 = TextClip('Second Upscale: 32x32x32 to 64x64x64\\nThe fake is generated conditioning GAN M2\\n on real image downscaled to 32x32x32', color='white', size=(2160, 1440), bg_color='black', fontsize=80)\n",
    "title_64 = title_64.set_duration(2)\n",
    "sample_64 = VideoFileClip('Samples/final/Video_editing/0th_64_samples_ckpt_87k_real.mp4')"
   ]
  },
  {
   "cell_type": "code",
   "execution_count": 23,
   "metadata": {},
   "outputs": [],
   "source": [
    "title_256 = TextClip('Final Upscale: 64x64x64 to 256x256x256\\nThe fake is generated conditioning GAN M1\\n on real image downscaled to 64x64x64', color='white', size=(2160, 1440), bg_color='black', fontsize=80)\n",
    "title_256 = title_256.set_duration(2)\n",
    "sample_256 = VideoFileClip('Samples/final/Video_editing/0th_256_samples_ckpt_116k_real.mp4')"
   ]
  },
  {
   "cell_type": "code",
   "execution_count": 24,
   "metadata": {},
   "outputs": [],
   "source": [
    "fake_title = TextClip('2 fake samples drawn from multi-scale model', color='white', size=(2160, 1440), bg_color='black', fontsize=80)\n",
    "fake_title = fake_title.set_duration(2)\n",
    "title_1 = TextClip('Sample 1', color='white', size=(2160, 1440), bg_color='black', fontsize=80)\n",
    "title_2 = TextClip('Sample 2', color='white', size=(2160, 1440), bg_color='black', fontsize=80)\n",
    "title_1 = title_1.set_duration(2)\n",
    "title_2 = title_2.set_duration(2)"
   ]
  },
  {
   "cell_type": "code",
   "execution_count": 25,
   "metadata": {},
   "outputs": [],
   "source": [
    "fake_1 = VideoFileClip('Samples/final/Video_editing/0th_256_samples_ckpt_116k_resnet-87k_27k.mp4')\n",
    "fake_2 = VideoFileClip('Samples/final/Video_editing/1st_256_samples_ckpt_116k_resnet-87k_27k.mp4')"
   ]
  },
  {
   "cell_type": "code",
   "execution_count": 26,
   "metadata": {},
   "outputs": [],
   "source": [
    "render = concatenate_videoclips([title, title_32, sample_32, title_64, sample_64, title_256, sample_256, fake_title, title_1, fake_1, title_2, fake_2])\n",
    "#render = concatenate_videoclips([title_64, sample_64])"
   ]
  },
  {
   "cell_type": "code",
   "execution_count": 27,
   "metadata": {},
   "outputs": [
    {
     "name": "stdout",
     "output_type": "stream",
     "text": [
      "[MoviePy] >>>> Building video Samples/final/Video_editing/summary.mp4\n",
      "[MoviePy] Writing video Samples/final/Video_editing/summary.mp4\n"
     ]
    },
    {
     "name": "stderr",
     "output_type": "stream",
     "text": [
      "100%|█████████▉| 1088/1089 [01:06<00:00, 16.42it/s]\n"
     ]
    },
    {
     "name": "stdout",
     "output_type": "stream",
     "text": [
      "[MoviePy] Done.\n",
      "[MoviePy] >>>> Video ready: Samples/final/Video_editing/summary.mp4 \n",
      "\n"
     ]
    }
   ],
   "source": [
    "render.write_videofile('Samples/final/Video_editing/summary.mp4', codec='libx264')"
   ]
  },
  {
   "cell_type": "code",
   "execution_count": null,
   "metadata": {},
   "outputs": [],
   "source": []
  }
 ],
 "metadata": {
  "kernelspec": {
   "display_name": "Python 3",
   "language": "python",
   "name": "python3"
  },
  "language_info": {
   "codemirror_mode": {
    "name": "ipython",
    "version": 3
   },
   "file_extension": ".py",
   "mimetype": "text/x-python",
   "name": "python",
   "nbconvert_exporter": "python",
   "pygments_lexer": "ipython3",
   "version": "3.5.2"
  }
 },
 "nbformat": 4,
 "nbformat_minor": 2
}
