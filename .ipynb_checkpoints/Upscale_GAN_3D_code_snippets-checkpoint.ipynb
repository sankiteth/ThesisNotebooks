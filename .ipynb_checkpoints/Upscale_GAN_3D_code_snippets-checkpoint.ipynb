{
 "cells": [
  {
   "cell_type": "code",
   "execution_count": 1,
   "metadata": {},
   "outputs": [
    {
     "name": "stdout",
     "output_type": "stream",
     "text": [
      "Populating the interactive namespace from numpy and matplotlib\n"
     ]
    },
    {
     "data": {
      "text/html": [
       "<style>.container { width:90% !important; }</style>"
      ],
      "text/plain": [
       "<IPython.core.display.HTML object>"
      ]
     },
     "metadata": {},
     "output_type": "display_data"
    }
   ],
   "source": [
    "%load_ext autoreload\n",
    "%autoreload 2\n",
    "%pylab inline\n",
    "from IPython.core.display import display, HTML; display(HTML(\"<style>.container { width:90% !important; }</style>\"))"
   ]
  },
  {
   "cell_type": "code",
   "execution_count": 2,
   "metadata": {},
   "outputs": [
    {
     "name": "stderr",
     "output_type": "stream",
     "text": [
      "/usr/local/lib/python3.5/dist-packages/h5py/__init__.py:36: FutureWarning: Conversion of the second argument of issubdtype from `float` to `np.floating` is deprecated. In future, it will be treated as `np.float64 == np.dtype(float).type`.\n",
      "  from ._conv import register_converters as _register_converters\n"
     ]
    }
   ],
   "source": [
    "import sys\n",
    "sys.path.insert(0, '../')\n",
    "\n",
    "import numpy as np\n",
    "import tensorflow as tf\n",
    "import os, sys, time, pickle\n",
    "import utils, optimization, metrics, plot, data, evaluation\n",
    "\n",
    "import plot\n",
    "\n",
    "from model import WGanModel, LapGanModel\n",
    "from gan import CosmoGAN\n",
    "from blocks import *"
   ]
  },
  {
   "cell_type": "code",
   "execution_count": 3,
   "metadata": {},
   "outputs": [
    {
     "name": "stdout",
     "output_type": "stream",
     "text": [
      "[[[ 1.  2.  3.  4.]\n",
      "  [ 5.  6.  7.  8.]\n",
      "  [ 9. 10. 11. 12.]\n",
      "  [13. 14. 15. 16.]]\n",
      "\n",
      " [[17. 18. 19. 20.]\n",
      "  [21. 22. 23. 24.]\n",
      "  [25. 26. 27. 28.]\n",
      "  [29. 30. 31. 32.]]\n",
      "\n",
      " [[33. 34. 35. 36.]\n",
      "  [37. 38. 39. 40.]\n",
      "  [41. 42. 43. 44.]\n",
      "  [45. 46. 47. 48.]]\n",
      "\n",
      " [[49. 50. 51. 52.]\n",
      "  [53. 54. 55. 56.]\n",
      "  [57. 58. 59. 60.]\n",
      "  [61. 62. 63. 64.]]]\n",
      "(4, 4, 4)\n",
      "(1, 4, 4, 4)\n"
     ]
    }
   ],
   "source": [
    "dim = 4\n",
    "img0 = np.arange(1,dim**3 + 1).reshape(dim,dim,dim).astype(np.float32)\n",
    "print(img0)\n",
    "print(img0.shape)\n",
    "img0 = img0.reshape([1, *img0.shape])\n",
    "print(img0.shape)"
   ]
  },
  {
   "cell_type": "code",
   "execution_count": 4,
   "metadata": {},
   "outputs": [],
   "source": [
    "spix = 2"
   ]
  },
  {
   "cell_type": "code",
   "execution_count": 5,
   "metadata": {},
   "outputs": [
    {
     "name": "stdout",
     "output_type": "stream",
     "text": [
      "img shape =  (1, 4, 4, 4, 8)\n",
      "img\n",
      " [[[[[ 1.  0.  0.  0.  0.  0.  0.  0.]\n",
      "    [ 2.  0.  0.  0.  0.  0.  0.  0.]\n",
      "    [ 3.  0.  1.  0.  0.  0.  0.  0.]\n",
      "    [ 4.  0.  2.  0.  0.  0.  0.  0.]]\n",
      "\n",
      "   [[ 5.  0.  0.  0.  0.  0.  0.  0.]\n",
      "    [ 6.  0.  0.  0.  0.  0.  0.  0.]\n",
      "    [ 7.  0.  5.  0.  0.  0.  0.  0.]\n",
      "    [ 8.  0.  6.  0.  0.  0.  0.  0.]]\n",
      "\n",
      "   [[ 9.  1.  0.  0.  0.  0.  0.  0.]\n",
      "    [10.  2.  0.  0.  0.  0.  0.  0.]\n",
      "    [11.  3.  9.  1.  0.  0.  0.  0.]\n",
      "    [12.  4. 10.  2.  0.  0.  0.  0.]]\n",
      "\n",
      "   [[13.  5.  0.  0.  0.  0.  0.  0.]\n",
      "    [14.  6.  0.  0.  0.  0.  0.  0.]\n",
      "    [15.  7. 13.  5.  0.  0.  0.  0.]\n",
      "    [16.  8. 14.  6.  0.  0.  0.  0.]]]\n",
      "\n",
      "\n",
      "  [[[17.  0.  0.  0.  0.  0.  0.  0.]\n",
      "    [18.  0.  0.  0.  0.  0.  0.  0.]\n",
      "    [19.  0. 17.  0.  0.  0.  0.  0.]\n",
      "    [20.  0. 18.  0.  0.  0.  0.  0.]]\n",
      "\n",
      "   [[21.  0.  0.  0.  0.  0.  0.  0.]\n",
      "    [22.  0.  0.  0.  0.  0.  0.  0.]\n",
      "    [23.  0. 21.  0.  0.  0.  0.  0.]\n",
      "    [24.  0. 22.  0.  0.  0.  0.  0.]]\n",
      "\n",
      "   [[25. 17.  0.  0.  0.  0.  0.  0.]\n",
      "    [26. 18.  0.  0.  0.  0.  0.  0.]\n",
      "    [27. 19. 25. 17.  0.  0.  0.  0.]\n",
      "    [28. 20. 26. 18.  0.  0.  0.  0.]]\n",
      "\n",
      "   [[29. 21.  0.  0.  0.  0.  0.  0.]\n",
      "    [30. 22.  0.  0.  0.  0.  0.  0.]\n",
      "    [31. 23. 29. 21.  0.  0.  0.  0.]\n",
      "    [32. 24. 30. 22.  0.  0.  0.  0.]]]\n",
      "\n",
      "\n",
      "  [[[33.  0.  0.  0.  1.  0.  0.  0.]\n",
      "    [34.  0.  0.  0.  2.  0.  0.  0.]\n",
      "    [35.  0. 33.  0.  3.  0.  1.  0.]\n",
      "    [36.  0. 34.  0.  4.  0.  2.  0.]]\n",
      "\n",
      "   [[37.  0.  0.  0.  5.  0.  0.  0.]\n",
      "    [38.  0.  0.  0.  6.  0.  0.  0.]\n",
      "    [39.  0. 37.  0.  7.  0.  5.  0.]\n",
      "    [40.  0. 38.  0.  8.  0.  6.  0.]]\n",
      "\n",
      "   [[41. 33.  0.  0.  9.  1.  0.  0.]\n",
      "    [42. 34.  0.  0. 10.  2.  0.  0.]\n",
      "    [43. 35. 41. 33. 11.  3.  9.  1.]\n",
      "    [44. 36. 42. 34. 12.  4. 10.  2.]]\n",
      "\n",
      "   [[45. 37.  0.  0. 13.  5.  0.  0.]\n",
      "    [46. 38.  0.  0. 14.  6.  0.  0.]\n",
      "    [47. 39. 45. 37. 15.  7. 13.  5.]\n",
      "    [48. 40. 46. 38. 16.  8. 14.  6.]]]\n",
      "\n",
      "\n",
      "  [[[49.  0.  0.  0. 17.  0.  0.  0.]\n",
      "    [50.  0.  0.  0. 18.  0.  0.  0.]\n",
      "    [51.  0. 49.  0. 19.  0. 17.  0.]\n",
      "    [52.  0. 50.  0. 20.  0. 18.  0.]]\n",
      "\n",
      "   [[53.  0.  0.  0. 21.  0.  0.  0.]\n",
      "    [54.  0.  0.  0. 22.  0.  0.  0.]\n",
      "    [55.  0. 53.  0. 23.  0. 21.  0.]\n",
      "    [56.  0. 54.  0. 24.  0. 22.  0.]]\n",
      "\n",
      "   [[57. 49.  0.  0. 25. 17.  0.  0.]\n",
      "    [58. 50.  0.  0. 26. 18.  0.  0.]\n",
      "    [59. 51. 57. 49. 27. 19. 25. 17.]\n",
      "    [60. 52. 58. 50. 28. 20. 26. 18.]]\n",
      "\n",
      "   [[61. 53.  0.  0. 29. 21.  0.  0.]\n",
      "    [62. 54.  0.  0. 30. 22.  0.  0.]\n",
      "    [63. 55. 61. 53. 31. 23. 29. 21.]\n",
      "    [64. 56. 62. 54. 32. 24. 30. 22.]]]]]\n"
     ]
    }
   ],
   "source": [
    "#print(\"img0\\n\", img0)\n",
    "\n",
    "img1 = np.roll(img0, spix, axis=2)\n",
    "img1[:, :, :spix, :] = 0\n",
    "#print(\"img1\\n\", img1)\n",
    "\n",
    "img2 = np.roll(img0, spix, axis=3)\n",
    "img2[:, :, :, :spix] = 0\n",
    "#print(\"img2\\n\", img2)\n",
    "\n",
    "img3 = np.roll(img1, spix, axis=3)\n",
    "img3[:, :, :, :spix] = 0\n",
    "#print(\"img3\\n\", img3)\n",
    "\n",
    "img4 = np.roll(img0, spix, axis=1) # extra for the 3D case\n",
    "img4[:, :spix, :, :] = 0\n",
    "#print(\"img4\\n\", img4)\n",
    "\n",
    "img5 = np.roll(img4, spix, axis=2)\n",
    "img5[:, :, :spix, :] = 0\n",
    "#print(\"img5\\n\", img5)\n",
    "\n",
    "img6 = np.roll(img4, spix, axis=3)\n",
    "img6[:, :, :, :spix] = 0\n",
    "#print(\"img6\\n\", img6)\n",
    "\n",
    "img7 = np.roll(img5, spix, axis=3)\n",
    "img7[:, :, :, :spix] = 0\n",
    "#print(\"img7\\n\", img7)\n",
    "\n",
    "img = np.stack([img0, img1, img2, img3, img4, img5, img6, img7], axis=4)\n",
    "print(\"img shape = \", img.shape) # 7 neighbors plus the original cube\n",
    "print(\"img\\n\", img)"
   ]
  },
  {
   "cell_type": "code",
   "execution_count": 6,
   "metadata": {},
   "outputs": [
    {
     "name": "stdout",
     "output_type": "stream",
     "text": [
      "(8, 2, 2, 2, 8)\n"
     ]
    }
   ],
   "source": [
    "cubes = img\n",
    "slice_dim1 = np.vstack(np.split(cubes, dim//spix, axis=1))\n",
    "slice_dim2 = np.vstack(np.split(slice_dim1, dim//spix, axis=2))\n",
    "slice_dim3 = np.vstack(np.split(slice_dim2, dim//spix, axis=3))\n",
    "print(slice_dim3.shape)"
   ]
  },
  {
   "cell_type": "code",
   "execution_count": 7,
   "metadata": {},
   "outputs": [
    {
     "name": "stdout",
     "output_type": "stream",
     "text": [
      "slice_dim3\n",
      " [[[[[ 1.  0.  0.  0.  0.  0.  0.  0.]\n",
      "    [ 2.  0.  0.  0.  0.  0.  0.  0.]]\n",
      "\n",
      "   [[ 5.  0.  0.  0.  0.  0.  0.  0.]\n",
      "    [ 6.  0.  0.  0.  0.  0.  0.  0.]]]\n",
      "\n",
      "\n",
      "  [[[17.  0.  0.  0.  0.  0.  0.  0.]\n",
      "    [18.  0.  0.  0.  0.  0.  0.  0.]]\n",
      "\n",
      "   [[21.  0.  0.  0.  0.  0.  0.  0.]\n",
      "    [22.  0.  0.  0.  0.  0.  0.  0.]]]]\n",
      "\n",
      "\n",
      "\n",
      " [[[[33.  0.  0.  0.  1.  0.  0.  0.]\n",
      "    [34.  0.  0.  0.  2.  0.  0.  0.]]\n",
      "\n",
      "   [[37.  0.  0.  0.  5.  0.  0.  0.]\n",
      "    [38.  0.  0.  0.  6.  0.  0.  0.]]]\n",
      "\n",
      "\n",
      "  [[[49.  0.  0.  0. 17.  0.  0.  0.]\n",
      "    [50.  0.  0.  0. 18.  0.  0.  0.]]\n",
      "\n",
      "   [[53.  0.  0.  0. 21.  0.  0.  0.]\n",
      "    [54.  0.  0.  0. 22.  0.  0.  0.]]]]\n",
      "\n",
      "\n",
      "\n",
      " [[[[ 9.  1.  0.  0.  0.  0.  0.  0.]\n",
      "    [10.  2.  0.  0.  0.  0.  0.  0.]]\n",
      "\n",
      "   [[13.  5.  0.  0.  0.  0.  0.  0.]\n",
      "    [14.  6.  0.  0.  0.  0.  0.  0.]]]\n",
      "\n",
      "\n",
      "  [[[25. 17.  0.  0.  0.  0.  0.  0.]\n",
      "    [26. 18.  0.  0.  0.  0.  0.  0.]]\n",
      "\n",
      "   [[29. 21.  0.  0.  0.  0.  0.  0.]\n",
      "    [30. 22.  0.  0.  0.  0.  0.  0.]]]]\n",
      "\n",
      "\n",
      "\n",
      " [[[[41. 33.  0.  0.  9.  1.  0.  0.]\n",
      "    [42. 34.  0.  0. 10.  2.  0.  0.]]\n",
      "\n",
      "   [[45. 37.  0.  0. 13.  5.  0.  0.]\n",
      "    [46. 38.  0.  0. 14.  6.  0.  0.]]]\n",
      "\n",
      "\n",
      "  [[[57. 49.  0.  0. 25. 17.  0.  0.]\n",
      "    [58. 50.  0.  0. 26. 18.  0.  0.]]\n",
      "\n",
      "   [[61. 53.  0.  0. 29. 21.  0.  0.]\n",
      "    [62. 54.  0.  0. 30. 22.  0.  0.]]]]\n",
      "\n",
      "\n",
      "\n",
      " [[[[ 3.  0.  1.  0.  0.  0.  0.  0.]\n",
      "    [ 4.  0.  2.  0.  0.  0.  0.  0.]]\n",
      "\n",
      "   [[ 7.  0.  5.  0.  0.  0.  0.  0.]\n",
      "    [ 8.  0.  6.  0.  0.  0.  0.  0.]]]\n",
      "\n",
      "\n",
      "  [[[19.  0. 17.  0.  0.  0.  0.  0.]\n",
      "    [20.  0. 18.  0.  0.  0.  0.  0.]]\n",
      "\n",
      "   [[23.  0. 21.  0.  0.  0.  0.  0.]\n",
      "    [24.  0. 22.  0.  0.  0.  0.  0.]]]]\n",
      "\n",
      "\n",
      "\n",
      " [[[[35.  0. 33.  0.  3.  0.  1.  0.]\n",
      "    [36.  0. 34.  0.  4.  0.  2.  0.]]\n",
      "\n",
      "   [[39.  0. 37.  0.  7.  0.  5.  0.]\n",
      "    [40.  0. 38.  0.  8.  0.  6.  0.]]]\n",
      "\n",
      "\n",
      "  [[[51.  0. 49.  0. 19.  0. 17.  0.]\n",
      "    [52.  0. 50.  0. 20.  0. 18.  0.]]\n",
      "\n",
      "   [[55.  0. 53.  0. 23.  0. 21.  0.]\n",
      "    [56.  0. 54.  0. 24.  0. 22.  0.]]]]\n",
      "\n",
      "\n",
      "\n",
      " [[[[11.  3.  9.  1.  0.  0.  0.  0.]\n",
      "    [12.  4. 10.  2.  0.  0.  0.  0.]]\n",
      "\n",
      "   [[15.  7. 13.  5.  0.  0.  0.  0.]\n",
      "    [16.  8. 14.  6.  0.  0.  0.  0.]]]\n",
      "\n",
      "\n",
      "  [[[27. 19. 25. 17.  0.  0.  0.  0.]\n",
      "    [28. 20. 26. 18.  0.  0.  0.  0.]]\n",
      "\n",
      "   [[31. 23. 29. 21.  0.  0.  0.  0.]\n",
      "    [32. 24. 30. 22.  0.  0.  0.  0.]]]]\n",
      "\n",
      "\n",
      "\n",
      " [[[[43. 35. 41. 33. 11.  3.  9.  1.]\n",
      "    [44. 36. 42. 34. 12.  4. 10.  2.]]\n",
      "\n",
      "   [[47. 39. 45. 37. 15.  7. 13.  5.]\n",
      "    [48. 40. 46. 38. 16.  8. 14.  6.]]]\n",
      "\n",
      "\n",
      "  [[[59. 51. 57. 49. 27. 19. 25. 17.]\n",
      "    [60. 52. 58. 50. 28. 20. 26. 18.]]\n",
      "\n",
      "   [[63. 55. 61. 53. 31. 23. 29. 21.]\n",
      "    [64. 56. 62. 54. 32. 24. 30. 22.]]]]]\n"
     ]
    }
   ],
   "source": [
    "print(\"slice_dim3\\n\", slice_dim3)"
   ]
  },
  {
   "cell_type": "code",
   "execution_count": 8,
   "metadata": {},
   "outputs": [
    {
     "name": "stdout",
     "output_type": "stream",
     "text": [
      "small_cubes shape =  (8, 2, 2, 2, 8)\n"
     ]
    }
   ],
   "source": [
    "small_cubes = slice_dim3\n",
    "#print(\"small_cubes\\n\", small_cubes)\n",
    "print(\"small_cubes shape = \", small_cubes.shape)"
   ]
  },
  {
   "cell_type": "code",
   "execution_count": 9,
   "metadata": {},
   "outputs": [
    {
     "name": "stdout",
     "output_type": "stream",
     "text": [
      "real shape =  (8, 2, 2, 2, 1)\n",
      "borders shape =  (8, 2, 2, 2, 7)\n"
     ]
    }
   ],
   "source": [
    "import tensorflow as tf\n",
    "tf.InteractiveSession()\n",
    "real, borders = tf.split(small_cubes, [1,7], axis=4) # separate real data and border information\n",
    "#print(\"real\\n\", np.squeeze(real.eval()))\n",
    "print(\"real shape = \", real.eval().shape)\n",
    "#print(\"borders\\n\", np.squeeze(borders.eval()))\n",
    "print(\"borders shape = \", borders.eval().shape)"
   ]
  },
  {
   "cell_type": "code",
   "execution_count": 10,
   "metadata": {},
   "outputs": [],
   "source": [
    "d_above, d_left, d_corner, up, u_above, u_left, u_corner = tf.split(borders, [1, 1, 1, 1, 1, 1, 1], axis=4)"
   ]
  },
  {
   "cell_type": "code",
   "execution_count": 11,
   "metadata": {},
   "outputs": [],
   "source": [
    "flip_d_above = tf.reverse(d_above, axis=[2])\n",
    "#print(\"flip_d_above\\n\", flip_d_above.eval())"
   ]
  },
  {
   "cell_type": "code",
   "execution_count": 12,
   "metadata": {},
   "outputs": [],
   "source": [
    "flip_d_left = tf.reverse(d_left, axis=[3])\n",
    "#print(\"flip_d_left\\n\", flip_d_left.eval())"
   ]
  },
  {
   "cell_type": "code",
   "execution_count": 13,
   "metadata": {},
   "outputs": [],
   "source": [
    "flip_d_corner = tf.reverse(d_corner, axis=[2, 3])\n",
    "#print(\"flip_d_corner\\n\", flip_d_corner.eval())"
   ]
  },
  {
   "cell_type": "code",
   "execution_count": 14,
   "metadata": {},
   "outputs": [],
   "source": [
    "flip_up = tf.reverse(up, axis=[1])\n",
    "#print(\"flip_up\\n\", flip_up.eval())"
   ]
  },
  {
   "cell_type": "code",
   "execution_count": 15,
   "metadata": {},
   "outputs": [],
   "source": [
    "flip_u_above = tf.reverse(u_above, axis=[1, 2])\n",
    "#print(\"flip_u_above\\n\", flip_u_above.eval())"
   ]
  },
  {
   "cell_type": "code",
   "execution_count": 16,
   "metadata": {},
   "outputs": [],
   "source": [
    "flip_u_left = tf.reverse(u_left, axis=[1, 3])\n",
    "#print(\"flip_u_left\\n\", flip_u_left.eval())"
   ]
  },
  {
   "cell_type": "code",
   "execution_count": 17,
   "metadata": {},
   "outputs": [],
   "source": [
    "flip_u_corner = tf.reverse(u_corner, axis=[1, 2, 3])\n",
    "#print(\"flip_u_corner\\n\", flip_u_corner.eval())"
   ]
  },
  {
   "cell_type": "code",
   "execution_count": 18,
   "metadata": {},
   "outputs": [],
   "source": [
    "flip_border = tf.concat([flip_d_above, flip_d_left, flip_d_corner, flip_up, flip_u_above, flip_u_left, flip_u_corner], axis=4)\n",
    "#print(flip_border.eval())"
   ]
  },
  {
   "cell_type": "code",
   "execution_count": 19,
   "metadata": {},
   "outputs": [],
   "source": [
    "# Concatenate back\n",
    "down_left = tf.concat([d_corner,d_left], axis=2)\n",
    "#print(down_left.eval())\n",
    "down_right = tf.concat([d_above, real], axis=2)\n",
    "#print(down_right.eval())"
   ]
  },
  {
   "cell_type": "code",
   "execution_count": 20,
   "metadata": {},
   "outputs": [],
   "source": [
    "down_cuboid = tf.concat([down_left, down_right], axis=3)\n",
    "#print(down_cuboid.eval())"
   ]
  },
  {
   "cell_type": "code",
   "execution_count": 21,
   "metadata": {},
   "outputs": [],
   "source": [
    "up_left = tf.concat([u_corner, u_left], axis=2)\n",
    "#print(up_left.eval())\n",
    "up_right = tf.concat([u_above, up], axis=2)\n",
    "#print(up_right.eval())"
   ]
  },
  {
   "cell_type": "code",
   "execution_count": 22,
   "metadata": {},
   "outputs": [],
   "source": [
    "up_cuboid = tf.concat([up_left, up_right], axis=3)\n",
    "#print(np.squeeze(up_cuboid.eval()))"
   ]
  },
  {
   "cell_type": "code",
   "execution_count": 23,
   "metadata": {},
   "outputs": [
    {
     "name": "stdout",
     "output_type": "stream",
     "text": [
      "[[[[ 0.  0.  0.  0.]\n",
      "   [ 0.  0.  0.  0.]\n",
      "   [ 0.  0.  0.  0.]\n",
      "   [ 0.  0.  0.  0.]]\n",
      "\n",
      "  [[ 0.  0.  0.  0.]\n",
      "   [ 0.  0.  0.  0.]\n",
      "   [ 0.  0.  0.  0.]\n",
      "   [ 0.  0.  0.  0.]]\n",
      "\n",
      "  [[ 0.  0.  0.  0.]\n",
      "   [ 0.  0.  0.  0.]\n",
      "   [ 0.  0.  1.  2.]\n",
      "   [ 0.  0.  5.  6.]]\n",
      "\n",
      "  [[ 0.  0.  0.  0.]\n",
      "   [ 0.  0.  0.  0.]\n",
      "   [ 0.  0. 17. 18.]\n",
      "   [ 0.  0. 21. 22.]]]\n",
      "\n",
      "\n",
      " [[[ 0.  0.  0.  0.]\n",
      "   [ 0.  0.  0.  0.]\n",
      "   [ 0.  0.  1.  2.]\n",
      "   [ 0.  0.  5.  6.]]\n",
      "\n",
      "  [[ 0.  0.  0.  0.]\n",
      "   [ 0.  0.  0.  0.]\n",
      "   [ 0.  0. 17. 18.]\n",
      "   [ 0.  0. 21. 22.]]\n",
      "\n",
      "  [[ 0.  0.  0.  0.]\n",
      "   [ 0.  0.  0.  0.]\n",
      "   [ 0.  0. 33. 34.]\n",
      "   [ 0.  0. 37. 38.]]\n",
      "\n",
      "  [[ 0.  0.  0.  0.]\n",
      "   [ 0.  0.  0.  0.]\n",
      "   [ 0.  0. 49. 50.]\n",
      "   [ 0.  0. 53. 54.]]]\n",
      "\n",
      "\n",
      " [[[ 0.  0.  0.  0.]\n",
      "   [ 0.  0.  0.  0.]\n",
      "   [ 0.  0.  0.  0.]\n",
      "   [ 0.  0.  0.  0.]]\n",
      "\n",
      "  [[ 0.  0.  0.  0.]\n",
      "   [ 0.  0.  0.  0.]\n",
      "   [ 0.  0.  0.  0.]\n",
      "   [ 0.  0.  0.  0.]]\n",
      "\n",
      "  [[ 0.  0.  1.  2.]\n",
      "   [ 0.  0.  5.  6.]\n",
      "   [ 0.  0.  9. 10.]\n",
      "   [ 0.  0. 13. 14.]]\n",
      "\n",
      "  [[ 0.  0. 17. 18.]\n",
      "   [ 0.  0. 21. 22.]\n",
      "   [ 0.  0. 25. 26.]\n",
      "   [ 0.  0. 29. 30.]]]\n",
      "\n",
      "\n",
      " [[[ 0.  0.  1.  2.]\n",
      "   [ 0.  0.  5.  6.]\n",
      "   [ 0.  0.  9. 10.]\n",
      "   [ 0.  0. 13. 14.]]\n",
      "\n",
      "  [[ 0.  0. 17. 18.]\n",
      "   [ 0.  0. 21. 22.]\n",
      "   [ 0.  0. 25. 26.]\n",
      "   [ 0.  0. 29. 30.]]\n",
      "\n",
      "  [[ 0.  0. 33. 34.]\n",
      "   [ 0.  0. 37. 38.]\n",
      "   [ 0.  0. 41. 42.]\n",
      "   [ 0.  0. 45. 46.]]\n",
      "\n",
      "  [[ 0.  0. 49. 50.]\n",
      "   [ 0.  0. 53. 54.]\n",
      "   [ 0.  0. 57. 58.]\n",
      "   [ 0.  0. 61. 62.]]]\n",
      "\n",
      "\n",
      " [[[ 0.  0.  0.  0.]\n",
      "   [ 0.  0.  0.  0.]\n",
      "   [ 0.  0.  0.  0.]\n",
      "   [ 0.  0.  0.  0.]]\n",
      "\n",
      "  [[ 0.  0.  0.  0.]\n",
      "   [ 0.  0.  0.  0.]\n",
      "   [ 0.  0.  0.  0.]\n",
      "   [ 0.  0.  0.  0.]]\n",
      "\n",
      "  [[ 0.  0.  0.  0.]\n",
      "   [ 0.  0.  0.  0.]\n",
      "   [ 1.  2.  3.  4.]\n",
      "   [ 5.  6.  7.  8.]]\n",
      "\n",
      "  [[ 0.  0.  0.  0.]\n",
      "   [ 0.  0.  0.  0.]\n",
      "   [17. 18. 19. 20.]\n",
      "   [21. 22. 23. 24.]]]\n",
      "\n",
      "\n",
      " [[[ 0.  0.  0.  0.]\n",
      "   [ 0.  0.  0.  0.]\n",
      "   [ 1.  2.  3.  4.]\n",
      "   [ 5.  6.  7.  8.]]\n",
      "\n",
      "  [[ 0.  0.  0.  0.]\n",
      "   [ 0.  0.  0.  0.]\n",
      "   [17. 18. 19. 20.]\n",
      "   [21. 22. 23. 24.]]\n",
      "\n",
      "  [[ 0.  0.  0.  0.]\n",
      "   [ 0.  0.  0.  0.]\n",
      "   [33. 34. 35. 36.]\n",
      "   [37. 38. 39. 40.]]\n",
      "\n",
      "  [[ 0.  0.  0.  0.]\n",
      "   [ 0.  0.  0.  0.]\n",
      "   [49. 50. 51. 52.]\n",
      "   [53. 54. 55. 56.]]]\n",
      "\n",
      "\n",
      " [[[ 0.  0.  0.  0.]\n",
      "   [ 0.  0.  0.  0.]\n",
      "   [ 0.  0.  0.  0.]\n",
      "   [ 0.  0.  0.  0.]]\n",
      "\n",
      "  [[ 0.  0.  0.  0.]\n",
      "   [ 0.  0.  0.  0.]\n",
      "   [ 0.  0.  0.  0.]\n",
      "   [ 0.  0.  0.  0.]]\n",
      "\n",
      "  [[ 1.  2.  3.  4.]\n",
      "   [ 5.  6.  7.  8.]\n",
      "   [ 9. 10. 11. 12.]\n",
      "   [13. 14. 15. 16.]]\n",
      "\n",
      "  [[17. 18. 19. 20.]\n",
      "   [21. 22. 23. 24.]\n",
      "   [25. 26. 27. 28.]\n",
      "   [29. 30. 31. 32.]]]\n",
      "\n",
      "\n",
      " [[[ 1.  2.  3.  4.]\n",
      "   [ 5.  6.  7.  8.]\n",
      "   [ 9. 10. 11. 12.]\n",
      "   [13. 14. 15. 16.]]\n",
      "\n",
      "  [[17. 18. 19. 20.]\n",
      "   [21. 22. 23. 24.]\n",
      "   [25. 26. 27. 28.]\n",
      "   [29. 30. 31. 32.]]\n",
      "\n",
      "  [[33. 34. 35. 36.]\n",
      "   [37. 38. 39. 40.]\n",
      "   [41. 42. 43. 44.]\n",
      "   [45. 46. 47. 48.]]\n",
      "\n",
      "  [[49. 50. 51. 52.]\n",
      "   [53. 54. 55. 56.]\n",
      "   [57. 58. 59. 60.]\n",
      "   [61. 62. 63. 64.]]]]\n",
      "(8, 4, 4, 4, 1)\n"
     ]
    }
   ],
   "source": [
    "real_cube = tf.concat([up_cuboid, down_cuboid], axis=1)\n",
    "print(np.squeeze(real_cube.eval()))\n",
    "print(real_cube.eval().shape)"
   ]
  },
  {
   "cell_type": "markdown",
   "metadata": {},
   "source": [
    "# Test Dataset_3d_patch"
   ]
  },
  {
   "cell_type": "code",
   "execution_count": 25,
   "metadata": {},
   "outputs": [
    {
     "name": "stdout",
     "output_type": "stream",
     "text": [
      "images shape =  (2, 256, 256, 256)\n"
     ]
    },
    {
     "name": "stderr",
     "output_type": "stream",
     "text": [
      "/usr/local/lib/python3.5/dist-packages/ipykernel_launcher.py:5: RuntimeWarning: invalid value encountered in sqrt\n",
      "  \"\"\"\n"
     ]
    },
    {
     "name": "stdout",
     "output_type": "stream",
     "text": [
      "Nbody dataset shape:  (8192, 16, 16, 16, 8)\n"
     ]
    }
   ],
   "source": [
    "ns = 16\n",
    "Mpch = 350\n",
    "\n",
    "def forward(X):\n",
    "\treturn np.log(np.sqrt(X)+np.e)-2\n",
    "\n",
    "def backward(Xmap, max_value=1e8):\n",
    "\tXmap = np.clip(Xmap, -1.0, forward(max_value))\n",
    "\ttmp = np.exp((Xmap+2))-np.e\n",
    "\treturn np.round(tmp*tmp)\n",
    "\n",
    "dataset = data.load.load_dataset(spix=ns, resolution=256,Mpch=Mpch, forward_map=forward, patch=True, is_3d=True)\n",
    "real_nbody = dataset.get_all_data()\n",
    "real_nbody_raw = forward(real_nbody)\n",
    "print(\"Nbody dataset shape: \", np.shape(real_nbody))"
   ]
  },
  {
   "cell_type": "code",
   "execution_count": 38,
   "metadata": {},
   "outputs": [
    {
     "ename": "NameError",
     "evalue": "name 'plot' is not defined",
     "output_type": "error",
     "traceback": [
      "\u001b[0;31m---------------------------------------------------------------------------\u001b[0m",
      "\u001b[0;31mNameError\u001b[0m                                 Traceback (most recent call last)",
      "\u001b[0;32m<ipython-input-38-f9ab00327f2a>\u001b[0m in \u001b[0;36m<module>\u001b[0;34m()\u001b[0m\n\u001b[1;32m      4\u001b[0m \u001b[0mf\u001b[0m \u001b[0;34m=\u001b[0m \u001b[0mnp\u001b[0m\u001b[0;34m.\u001b[0m\u001b[0mrandom\u001b[0m\u001b[0;34m.\u001b[0m\u001b[0mrand\u001b[0m\u001b[0;34m(\u001b[0m\u001b[0;36m32\u001b[0m\u001b[0;34m,\u001b[0m \u001b[0;36m32\u001b[0m\u001b[0;34m,\u001b[0m \u001b[0;36m32\u001b[0m\u001b[0;34m)\u001b[0m\u001b[0;34m\u001b[0m\u001b[0m\n\u001b[1;32m      5\u001b[0m \u001b[0mr\u001b[0m \u001b[0;34m=\u001b[0m \u001b[0mf\u001b[0m\u001b[0;34m\u001b[0m\u001b[0m\n\u001b[0;32m----> 6\u001b[0;31m \u001b[0mplot\u001b[0m\u001b[0;34m.\u001b[0m\u001b[0msave_gif\u001b[0m\u001b[0;34m(\u001b[0m\u001b[0mr\u001b[0m\u001b[0;34m,\u001b[0m \u001b[0mf\u001b[0m\u001b[0;34m,\u001b[0m \u001b[0mfps\u001b[0m\u001b[0;34m=\u001b[0m\u001b[0;36m5\u001b[0m\u001b[0;34m)\u001b[0m\u001b[0;34m\u001b[0m\u001b[0m\n\u001b[0m\u001b[1;32m      7\u001b[0m \u001b[0;31m#animation.ipython_display(fps=5, loop=True, autoplay=True)\u001b[0m\u001b[0;34m\u001b[0m\u001b[0;34m\u001b[0m\u001b[0m\n",
      "\u001b[0;32m~/Desktop/ETH/FourthSemester/ankit/CodeGAN/plot.py\u001b[0m in \u001b[0;36msave_gif\u001b[0;34m(real_cube, fake_cube, figsize, fps, output_file_name)\u001b[0m\n\u001b[1;32m    345\u001b[0m     \u001b[0mGiven\u001b[0m \u001b[0mreal\u001b[0m \u001b[0;32mand\u001b[0m \u001b[0mfake\u001b[0m \u001b[0;36m3\u001b[0m\u001b[0md\u001b[0m \u001b[0msample\u001b[0m\u001b[0;34m,\u001b[0m \u001b[0mcreate\u001b[0m \u001b[0manimation\u001b[0m \u001b[0;32mwith\u001b[0m \u001b[0mslices\u001b[0m \u001b[0malong\u001b[0m \u001b[0mall\u001b[0m \u001b[0;36m3\u001b[0m \u001b[0mdimensions\u001b[0m\u001b[0;34m,\u001b[0m \u001b[0;32mand\u001b[0m \u001b[0msave\u001b[0m \u001b[0mit\u001b[0m \u001b[0;32mas\u001b[0m \u001b[0mgif\u001b[0m\u001b[0;34m.\u001b[0m\u001b[0;34m\u001b[0m\u001b[0m\n\u001b[1;32m    346\u001b[0m     '''\n\u001b[0;32m--> 347\u001b[0;31m     \u001b[0manimation\u001b[0m \u001b[0;34m=\u001b[0m \u001b[0mplot\u001b[0m\u001b[0;34m.\u001b[0m\u001b[0mget_animation\u001b[0m\u001b[0;34m(\u001b[0m\u001b[0mreal_cube\u001b[0m\u001b[0;34m,\u001b[0m \u001b[0mfake_cube\u001b[0m\u001b[0;34m,\u001b[0m \u001b[0mfigsize\u001b[0m\u001b[0;34m)\u001b[0m\u001b[0;34m\u001b[0m\u001b[0m\n\u001b[0m\u001b[1;32m    348\u001b[0m     \u001b[0manimation\u001b[0m\u001b[0;34m.\u001b[0m\u001b[0mwrite_gif\u001b[0m\u001b[0;34m(\u001b[0m\u001b[0moutput_file_name\u001b[0m \u001b[0;34m+\u001b[0m \u001b[0;34m'.gif'\u001b[0m\u001b[0;34m,\u001b[0m \u001b[0mfps\u001b[0m\u001b[0;34m=\u001b[0m\u001b[0mfps\u001b[0m\u001b[0;34m)\u001b[0m\u001b[0;34m\u001b[0m\u001b[0m\n",
      "\u001b[0;31mNameError\u001b[0m: name 'plot' is not defined"
     ]
    },
    {
     "data": {
      "text/plain": [
       "<matplotlib.figure.Figure at 0x7f75195f96d8>"
      ]
     },
     "metadata": {},
     "output_type": "display_data"
    }
   ],
   "source": [
    "import plot\n",
    "fig = plt.figure(figsize=(4, 8))\n",
    "\n",
    "f = np.random.rand(32, 32, 32)\n",
    "r = f\n",
    "plot.save_gif(r, f, fps=5)\n",
    "#animation.ipython_display(fps=5, loop=True, autoplay=True)"
   ]
  },
  {
   "cell_type": "code",
   "execution_count": null,
   "metadata": {},
   "outputs": [],
   "source": []
  }
 ],
 "metadata": {
  "kernelspec": {
   "display_name": "Python 3",
   "language": "python",
   "name": "python3"
  },
  "language_info": {
   "codemirror_mode": {
    "name": "ipython",
    "version": 3
   },
   "file_extension": ".py",
   "mimetype": "text/x-python",
   "name": "python",
   "nbconvert_exporter": "python",
   "pygments_lexer": "ipython3",
   "version": "3.5.2"
  }
 },
 "nbformat": 4,
 "nbformat_minor": 2
}
