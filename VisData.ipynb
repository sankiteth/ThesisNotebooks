{
 "cells": [
  {
   "cell_type": "code",
   "execution_count": 1,
   "metadata": {},
   "outputs": [
    {
     "name": "stdout",
     "output_type": "stream",
     "text": [
      "Populating the interactive namespace from numpy and matplotlib\n"
     ]
    },
    {
     "data": {
      "text/html": [
       "<style>.container { width:90% !important; }</style>"
      ],
      "text/plain": [
       "<IPython.core.display.HTML object>"
      ]
     },
     "metadata": {},
     "output_type": "display_data"
    },
    {
     "name": "stderr",
     "output_type": "stream",
     "text": [
      "/home/ankit/.local/lib/python3.5/site-packages/h5py/__init__.py:36: FutureWarning: Conversion of the second argument of issubdtype from `float` to `np.floating` is deprecated. In future, it will be treated as `np.float64 == np.dtype(float).type`.\n",
      "  from ._conv import register_converters as _register_converters\n"
     ]
    }
   ],
   "source": [
    "%load_ext autoreload\n",
    "%autoreload 2\n",
    "%pylab inline\n",
    "from IPython.core.display import display, HTML; display(HTML(\"<style>.container { width:90% !important; }</style>\"))\n",
    "\n",
    "import sys\n",
    "sys.path.insert(0, '../')\n",
    "\n",
    "import numpy as np\n",
    "import tensorflow as tf\n",
    "import os, sys, time, pickle, functools\n",
    "import utils, optimization, metrics, plot, data, evaluation\n",
    "\n",
    "import plot\n",
    "from plot import get_animation\n",
    "import matplotlib.pyplot as plt\n",
    "\n",
    "from model import WGanModel, LapGanModel\n",
    "from gan import CosmoGAN\n",
    "import blocks\n",
    "from blocks import *"
   ]
  },
  {
   "cell_type": "code",
   "execution_count": 2,
   "metadata": {},
   "outputs": [],
   "source": [
    "fwd = data.fmap.forward\n",
    "bkd = data.fmap.backward\n",
    "ln_fwd = data.fmap.log_norm_forward\n",
    "ln_bkd = data.fmap.log_norm_backward"
   ]
  },
  {
   "cell_type": "code",
   "execution_count": 3,
   "metadata": {},
   "outputs": [
    {
     "name": "stdout",
     "output_type": "stream",
     "text": [
      "[1.4979078]\n",
      "[8001.]\n"
     ]
    }
   ],
   "source": [
    "a = ln_fwd(8001)\n",
    "print(a)\n",
    "b = ln_bkd(a)\n",
    "print(b)"
   ]
  },
  {
   "cell_type": "code",
   "execution_count": 4,
   "metadata": {},
   "outputs": [
    {
     "name": "stdout",
     "output_type": "stream",
     "text": [
      "Loaded all 2 histograms only once in the beginning!\n",
      "Loaded all 2 histograms only once in the beginning!\n",
      "log norm check:  0.0\n",
      "Loaded all 2 histograms only once in the beginning!\n",
      "log check:  0.0\n"
     ]
    }
   ],
   "source": [
    "dataset = data.load.load_dataset_file(spix=256, resolution=256,Mpch=350, scaling=1, augmentation=False, shuffle=False, forward_map=None, patch=False, is_3d=True)\n",
    "X = dataset.get_all_data().flatten()\n",
    "\n",
    "dataset_ln = data.load.load_dataset_file(spix=256, resolution=256,Mpch=350, scaling=1, augmentation=False, shuffle=False, forward_map=ln_fwd, patch=False, is_3d=True)\n",
    "X_ln = dataset_ln.get_all_data().flatten()\n",
    "print(\"log norm check: \", np.sum( np.abs( ln_bkd(X_ln) - X) ) )\n",
    "\n",
    "dataset_l = data.load.load_dataset_file(spix=256, resolution=256,Mpch=350, scaling=1, augmentation=False, shuffle=False, forward_map=fwd, patch=False, is_3d=True)\n",
    "X_l = dataset_l.get_all_data().flatten()\n",
    "print(\"log check: \", np.sum( np.abs(bkd(X_l) - X) ) )"
   ]
  },
  {
   "cell_type": "code",
   "execution_count": 9,
   "metadata": {},
   "outputs": [
    {
     "name": "stdout",
     "output_type": "stream",
     "text": [
      "min value: 0.0\n",
      "max value: 185874.0\n"
     ]
    },
    {
     "data": {
      "image/png": "[encoded data removed]",
      "text/plain": [
       "<Figure size 432x288 with 1 Axes>"
      ]
     },
     "metadata": {},
     "output_type": "display_data"
    }
   ],
   "source": [
    "plt.hist(X, 100)\n",
    "#print(\"original\")\n",
    "print('min value: {}'.format(np.min(X)))\n",
    "print('max value: {}'.format(np.max(X)))\n",
    "plt.xlabel('values')\n",
    "plt.ylabel('frequency (log scale)')\n",
    "plt.yscale('log')"
   ]
  },
  {
   "cell_type": "code",
   "execution_count": 11,
   "metadata": {},
   "outputs": [
    {
     "name": "stdout",
     "output_type": "stream",
     "text": [
      "min value: 0.0\n",
      "max value: 5.203132152557373\n"
     ]
    },
    {
     "data": {
      "image/png": "[encoded data removed]",
      "text/plain": [
       "<Figure size 432x288 with 1 Axes>"
      ]
     },
     "metadata": {},
     "output_type": "display_data"
    }
   ],
   "source": [
    "plt.hist(X_ln, 100)\n",
    "#print(\"log norm\")\n",
    "print('min value: {}'.format(np.min(X_ln)))\n",
    "print('max value: {}'.format(np.max(X_ln)))\n",
    "plt.xlabel('values')\n",
    "plt.ylabel('frequency (log scale)')\n",
    "plt.yscale('log')"
   ]
  },
  {
   "cell_type": "code",
   "execution_count": 10,
   "metadata": {},
   "outputs": [
    {
     "name": "stdout",
     "output_type": "stream",
     "text": [
      "log\n",
      "min: 0.0\n",
      "max: 5.092451095581055\n"
     ]
    },
    {
     "data": {
      "image/png": "[encoded data removed]",
      "text/plain": [
       "<Figure size 432x288 with 1 Axes>"
      ]
     },
     "metadata": {},
     "output_type": "display_data"
    }
   ],
   "source": [
    "plt.hist(X_l, 100)\n",
    "print(\"log\")\n",
    "print('min: {}'.format(np.min(X_l)))\n",
    "print('max: {}'.format(np.max(X_l)))\n",
    "plt.yscale('log')"
   ]
  },
  {
   "cell_type": "code",
   "execution_count": 12,
   "metadata": {},
   "outputs": [
    {
     "name": "stdout",
     "output_type": "stream",
     "text": [
      "Loaded all 2 histograms only once in the beginning!\n",
      "Loaded all 2 histograms only once in the beginning!\n",
      "log norm check:  20368390.0\n"
     ]
    }
   ],
   "source": [
    "dataset = data.load.load_dataset_file(spix=64, resolution=256,Mpch=350, scaling=4, augmentation=False, shuffle=False, forward_map=None, patch=False, is_3d=True)\n",
    "X = dataset.get_all_data().flatten()\n",
    "\n",
    "dataset_ln = data.load.load_dataset_file(spix=64, resolution=256,Mpch=350, scaling=4, augmentation=False, shuffle=False, forward_map=ln_fwd, patch=False, is_3d=True)\n",
    "X_ln = dataset_ln.get_all_data().flatten()\n",
    "print(\"log norm check: \", np.sum( np.abs( ln_bkd(X_ln) - X) ) )"
   ]
  },
  {
   "cell_type": "code",
   "execution_count": 13,
   "metadata": {},
   "outputs": [
    {
     "name": "stdout",
     "output_type": "stream",
     "text": [
      "min value: 2.796875\n",
      "max value: 17836.234375\n"
     ]
    },
    {
     "data": {
      "image/png": "[encoded data removed]",
      "text/plain": [
       "<Figure size 432x288 with 1 Axes>"
      ]
     },
     "metadata": {},
     "output_type": "display_data"
    }
   ],
   "source": [
    "plt.hist(X, 100)\n",
    "#print(\"original\")\n",
    "print('min value: {}'.format(np.min(X)))\n",
    "print('max value: {}'.format(np.max(X)))\n",
    "plt.xlabel('values')\n",
    "plt.ylabel('frequency (log scale)')\n",
    "plt.yscale('log')"
   ]
  },
  {
   "cell_type": "code",
   "execution_count": 14,
   "metadata": {},
   "outputs": [
    {
     "name": "stdout",
     "output_type": "stream",
     "text": [
      "min value: 0.20912620425224304\n",
      "max value: 1.58328378200531\n"
     ]
    },
    {
     "data": {
      "image/png": "[encoded data removed]",
      "text/plain": [
       "<Figure size 432x288 with 1 Axes>"
      ]
     },
     "metadata": {},
     "output_type": "display_data"
    }
   ],
   "source": [
    "plt.hist(X_ln, 100)\n",
    "#print(\"log norm\")\n",
    "print('min value: {}'.format(np.min(X_ln)))\n",
    "print('max value: {}'.format(np.max(X_ln)))\n",
    "plt.xlabel('values')\n",
    "plt.ylabel('frequency (log scale)')\n",
    "plt.yscale('log')"
   ]
  },
  {
   "cell_type": "code",
   "execution_count": 35,
   "metadata": {},
   "outputs": [
    {
     "data": {
      "image/png": "[encoded data removed]",
      "text/plain": [
       "<Figure size 720x360 with 1 Axes>"
      ]
     },
     "metadata": {},
     "output_type": "display_data"
    }
   ],
   "source": [
    "plt.figure(figsize=(10,5))\n",
    "\n",
    "x = np.arange(0, np.max(X))\n",
    "\n",
    "y3 = (np.log((x+1)/(8000.0+1)) - np.log((0+1)/(8000.0+1))) / 6.0\n",
    "plt.plot(y3, label='y=only log part', color='green')\n",
    "\n",
    "y1 = ln_fwd(x)\n",
    "plt.plot(y1, label='y = f(x, c=8000, scale=6)', color='cyan')\n",
    "\n",
    "#y2 = data.fmap.forward(x)\n",
    "#plt.plot(y2, label='c=log')\n",
    "\n",
    "y4 = ((x+1)/(8000.0+1) - (0+1)/(8000.0+1) ) / 6.0\n",
    "plt.plot(y4, label='y=only linear part')\n",
    "\n",
    "y5 = [0 for i in range(len(x))]\n",
    "plt.plot(y5, color='black')\n",
    "\n",
    "plt.axvline(x=8000, color='red')\n",
    "#plt.xscale('log')\n",
    "\n",
    "legend = plt.legend(loc='lower corner', shadow=True)"
   ]
  },
  {
   "cell_type": "markdown",
   "metadata": {},
   "source": [
    "# Gradient Histogram"
   ]
  },
  {
   "cell_type": "code",
   "execution_count": 5,
   "metadata": {},
   "outputs": [],
   "source": [
    "def calculate_grad(X):\n",
    "    print('input shape=', X.shape)\n",
    "    grad_x = np.zeros(X.shape, dtype=np.float32)\n",
    "    grad_y = np.zeros(X.shape, dtype=np.float32)\n",
    "    grad_z = np.zeros(X.shape, dtype=np.float32)\n",
    "    grad = np.zeros(X.shape, dtype=np.float32)\n",
    "\n",
    "    for i in range(255):\n",
    "        for j in range(255):\n",
    "            for k in range(255):\n",
    "                grad_x[i,j,k] = X[i,j,k+1] - X[i,j,k]\n",
    "                grad_y[i,j,k] = X[i,j+1,k] - X[i,j,k]\n",
    "                grad_z[i,j,k] = X[i+1,j,k] - X[i,j,k]\n",
    "\n",
    "    grad = np.sqrt(grad_x**2 + grad_y**2 + grad_z**2)\n",
    "    \n",
    "    return grad"
   ]
  },
  {
   "cell_type": "code",
   "execution_count": 10,
   "metadata": {},
   "outputs": [
    {
     "name": "stdout",
     "output_type": "stream",
     "text": [
      "input shape= (256, 256, 256)\n",
      "min: 0.0\n",
      "max: 248489.890625\n",
      "********************************Real samples*************************\n"
     ]
    },
    {
     "data": {
      "image/png": "[encoded data removed]",
      "text/plain": [
       "<Figure size 432x288 with 1 Axes>"
      ]
     },
     "metadata": {},
     "output_type": "display_data"
    }
   ],
   "source": [
    "grad = (calculate_grad(dataset.get_all_data()[0, :, :, :]).flatten())\n",
    "plt.hist(grad, 100)\n",
    "print('min: {}'.format(np.min(grad)))\n",
    "print('max: {}'.format(np.max(grad)))\n",
    "\n",
    "print(\"********************************Real samples*************************\")\n",
    "plt.yscale('log')"
   ]
  },
  {
   "cell_type": "code",
   "execution_count": 11,
   "metadata": {},
   "outputs": [
    {
     "name": "stdout",
     "output_type": "stream",
     "text": [
      "input shape= (256, 256, 256)\n",
      "min: 0.0\n",
      "max: 183966.96875\n",
      "********************************Fake samples - log Transform*************************\n"
     ]
    },
    {
     "data": {
      "image/png": "[encoded data removed]",
      "text/plain": [
       "<Figure size 432x288 with 1 Axes>"
      ]
     },
     "metadata": {},
     "output_type": "display_data"
    }
   ],
   "source": [
    "gen_samples_256 = bkd(utils.load_hdf5('Samples/bigstat/0_to_32_to_64_to_256_new_trans/2_256_samples_ckpt_no-inception-298k_98k_119k.h5'))\n",
    "grad = calculate_grad(gen_samples_256[0,:,:,:]).flatten()\n",
    "plt.hist(grad, 100)\n",
    "print('min: {}'.format(np.min(grad)))\n",
    "print('max: {}'.format(np.max(grad)))\n",
    "\n",
    "print(\"********************************Fake samples - log Transform*************************\")\n",
    "plt.yscale('log')"
   ]
  },
  {
   "cell_type": "code",
   "execution_count": 12,
   "metadata": {},
   "outputs": [
    {
     "name": "stdout",
     "output_type": "stream",
     "text": [
      "input shape= (256, 256, 256)\n",
      "min: 0.0\n",
      "max: 85445.875\n",
      "********************************Fake samples - log linear Transformation - resnet*************************\n"
     ]
    },
    {
     "data": {
      "image/png": "[encoded data removed]",
      "text/plain": [
       "<Figure size 432x288 with 1 Axes>"
      ]
     },
     "metadata": {},
     "output_type": "display_data"
    }
   ],
   "source": [
    "gen_samples_256_raw = ln_bkd(utils.load_hdf5('Samples/final/resnet_64_to_256_log_norm/2_256_samples_ckpt_30k_resnet-22k_60k.h5'))\n",
    "grad = calculate_grad(gen_samples_256_raw[0, :, :, :]).flatten()\n",
    "plt.hist(grad, 100)\n",
    "print('min: {}'.format(np.min(grad)))\n",
    "print('max: {}'.format(np.max(grad)))\n",
    "\n",
    "print(\"********************************Fake samples - log linear Transformation - resnet*************************\")\n",
    "plt.yscale('log')"
   ]
  },
  {
   "cell_type": "code",
   "execution_count": null,
   "metadata": {},
   "outputs": [],
   "source": []
  }
 ],
 "metadata": {
  "kernelspec": {
   "display_name": "Python 3",
   "language": "python",
   "name": "python3"
  },
  "language_info": {
   "codemirror_mode": {
    "name": "ipython",
    "version": 3
   },
   "file_extension": ".py",
   "mimetype": "text/x-python",
   "name": "python",
   "nbconvert_exporter": "python",
   "pygments_lexer": "ipython3",
   "version": "3.5.2"
  }
 },
 "nbformat": 4,
 "nbformat_minor": 2
}
